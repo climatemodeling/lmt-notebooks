{
 "cells": [
  {
   "cell_type": "code",
   "execution_count": 1,
   "metadata": {},
   "outputs": [],
   "source": [
    "import xarray as xr\n",
    "import numpy as np\n",
    "import os"
   ]
  },
  {
   "cell_type": "markdown",
   "metadata": {},
   "source": [
    "Load the data in the `xarray` fashion:"
   ]
  },
  {
   "cell_type": "code",
   "execution_count": 2,
   "metadata": {},
   "outputs": [],
   "source": [
    "root      = \"/home/nate/data/ILAMB/MODELS/CLM/CLM5.0/\"\n",
    "nbp_file  = \"nbp_Lmon_CLM50r267GSWP3_historical_r1i1p1_185001-201012.nc\"\n",
    "area_file = \"areacella_fx_CLM45r270GSWP3_historical_r0i0p0.nc\"\n",
    "dset_nbp  = xr.open_dataset(os.path.join(root, nbp_file))\n",
    "dset_area = xr.open_dataset(os.path.join(root,area_file))\n",
    "nbp       = dset_nbp[\"nbp\"]\n",
    "area      = dset_area.areacella"
   ]
  },
  {
   "cell_type": "markdown",
   "metadata": {},
   "source": [
    "Also create some masked arrays, equivalent to what is happening behind `integrateInSpace()` from ILAMB."
   ]
  },
  {
   "cell_type": "code",
   "execution_count": 3,
   "metadata": {},
   "outputs": [],
   "source": [
    "N = np.ma.masked_invalid(nbp.data)\n",
    "A = area.data"
   ]
  },
  {
   "cell_type": "markdown",
   "metadata": {},
   "source": [
    "Now we define a few methods of computed the area-weighted sum, which is an rectangle rule approximation of the integral."
   ]
  },
  {
   "cell_type": "code",
   "execution_count": 4,
   "metadata": {},
   "outputs": [
    {
     "name": "stdout",
     "output_type": "stream",
     "text": [
      "relative difference = 2.559e-05\n",
      "relative difference = 0.000e+00\n"
     ]
    }
   ],
   "source": [
    "def method1():\n",
    "    s = (nbp*area).sum(area.dims) \n",
    "    return s\n",
    "\n",
    "def method2():\n",
    "    weighted_nbp = nbp.weighted(area)\n",
    "    s = weighted_nbp.sum(area.dims) \n",
    "    return s\n",
    "\n",
    "def method3():\n",
    "    s = (N*A).sum(axis=(-2,-1))\n",
    "    return s\n",
    "\n",
    "s1 = method1()\n",
    "s2 = method2()\n",
    "s3 = method3()\n",
    "print(\"relative difference = %.3e\" % (np.abs(((s2-s1)/s1).data).max()))\n",
    "print(\"relative difference = %.3e\" % (np.abs(((s3-s1)/s1).data).max()))"
   ]
  },
  {
   "cell_type": "code",
   "execution_count": 5,
   "metadata": {},
   "outputs": [
    {
     "name": "stdout",
     "output_type": "stream",
     "text": [
      "297 ms ± 5.97 ms per loop (mean ± std. dev. of 7 runs, 1 loop each)\n"
     ]
    }
   ],
   "source": [
    "%timeit method1()"
   ]
  },
  {
   "cell_type": "code",
   "execution_count": 6,
   "metadata": {},
   "outputs": [
    {
     "name": "stdout",
     "output_type": "stream",
     "text": [
      "234 ms ± 5.75 ms per loop (mean ± std. dev. of 7 runs, 1 loop each)\n"
     ]
    }
   ],
   "source": [
    "%timeit method2()"
   ]
  },
  {
   "cell_type": "code",
   "execution_count": 7,
   "metadata": {},
   "outputs": [
    {
     "name": "stdout",
     "output_type": "stream",
     "text": [
      "400 ms ± 4.72 ms per loop (mean ± std. dev. of 7 runs, 1 loop each)\n"
     ]
    }
   ],
   "source": [
    "%timeit method3()"
   ]
  },
  {
   "cell_type": "code",
   "execution_count": 8,
   "metadata": {},
   "outputs": [
    {
     "data": {
      "text/plain": [
       "'0.15.1'"
      ]
     },
     "execution_count": 8,
     "metadata": {},
     "output_type": "execute_result"
    }
   ],
   "source": [
    "xr.__version__"
   ]
  },
  {
   "cell_type": "code",
   "execution_count": null,
   "metadata": {},
   "outputs": [],
   "source": []
  }
 ],
 "metadata": {
  "kernelspec": {
   "display_name": "Python 3",
   "language": "python",
   "name": "python3"
  },
  "language_info": {
   "codemirror_mode": {
    "name": "ipython",
    "version": 3
   },
   "file_extension": ".py",
   "mimetype": "text/x-python",
   "name": "python",
   "nbconvert_exporter": "python",
   "pygments_lexer": "ipython3",
   "version": "3.7.6"
  }
 },
 "nbformat": 4,
 "nbformat_minor": 4
}

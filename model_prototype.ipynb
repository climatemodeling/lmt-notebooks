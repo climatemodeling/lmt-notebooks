{
 "cells": [
  {
   "cell_type": "code",
   "execution_count": 1,
   "metadata": {},
   "outputs": [],
   "source": [
    "from ModelResult import ModelResult"
   ]
  },
  {
   "cell_type": "markdown",
   "metadata": {},
   "source": [
    "Model results can work as they did before with one small change that I do not automatically find all the files. This is because sometimes we will want a model to be a 'shell' and only really serve as a parent for child models."
   ]
  },
  {
   "cell_type": "code",
   "execution_count": 2,
   "metadata": {},
   "outputs": [],
   "source": [
    "clm4 = ModelResult(\"/home/ncf/CLM/CLM4.0\",name=\"CLM4\").findFiles()\n",
    "clm5 = ModelResult(\"/home/ncf/CLM/CLM5.0\",name=\"CLM5\").findFiles()"
   ]
  },
  {
   "cell_type": "markdown",
   "metadata": {},
   "source": [
    "A model could also be a group / collection of models. You could use this to define a collection, like a MIP or to define an ensemble. There is a manual addition of models to the group, seen here:"
   ]
  },
  {
   "cell_type": "code",
   "execution_count": 3,
   "metadata": {},
   "outputs": [
    {
     "name": "stdout",
     "output_type": "stream",
     "text": [
      "ModelResult: CLM - manual\n",
      "-------------------------\n",
      "  + CLM4\n",
      "  + CLM5\n",
      "\n"
     ]
    }
   ],
   "source": [
    "grp = ModelResult(\"/home/ncf/CLM/\",name=\"CLM - manual\")\n",
    "grp.addModel(clm4)\n",
    "grp.addModel([clm4,clm5]) # can add lists too, won't duplicate\n",
    "print(grp)"
   ]
  },
  {
   "cell_type": "markdown",
   "metadata": {},
   "source": [
    "But there is also a syntax for defining model groups by regular expressions. First I create a model result and run the `findFiles()` but I specify a regular expression. The code will loop through all netCDF files in the model group directory and if a match for this regular expression is found, it will add the variables of that netCDF file to a new model with the name of what is in the parenthesis."
   ]
  },
  {
   "cell_type": "code",
   "execution_count": 4,
   "metadata": {},
   "outputs": [
    {
     "name": "stdout",
     "output_type": "stream",
     "text": [
      "ModelResult: CLM - automatic\n",
      "----------------------------\n",
      "  + CLM40r243CMIP6GSWP3\n",
      "  + CLM50r267GSWP3\n",
      "  + CLM45r270GSWP3\n",
      "\n"
     ]
    }
   ],
   "source": [
    "grp = ModelResult(\"/home/ncf/CLM/\",name=\"CLM - automatic\")\n",
    "grp.findFiles(group_regex=\".*_(.*)_historical.*\")\n",
    "print(grp)"
   ]
  },
  {
   "cell_type": "markdown",
   "metadata": {},
   "source": [
    "The model names are picked off of the filenames. You can quickly imagine how useful this could be for sorting out CMIP-style ensembles. The `r1i1p1f1` is always in the same relative place of the filename. You could setup an ILAMB model ensemble very quickly this way. Then you can get variables out of models jsut like before:"
   ]
  },
  {
   "cell_type": "code",
   "execution_count": 5,
   "metadata": {},
   "outputs": [
    {
     "name": "stdout",
     "output_type": "stream",
     "text": [
      "Variable: nbp\n",
      "-------------\n",
      "                unit: kg m-2 s-1\n",
      "          isTemporal: True (1932)\n",
      "           isSpatial: True (192,288)\n",
      "           isLayered: False\n",
      "          nDatasites: N/A\n",
      "           dataShape: (1932, 192, 288)\n",
      "             dataMax: 5.861439e-08\n",
      "             dataMin: -1.318722e-07\n",
      "            dataMean: -5.798144e-11\n",
      "\n"
     ]
    }
   ],
   "source": [
    "nbp = clm4.getVariable(\"nbp\")\n",
    "print(nbp)"
   ]
  },
  {
   "cell_type": "markdown",
   "metadata": {},
   "source": [
    "But if you ask a model group, you will get a dictionary of variables:"
   ]
  },
  {
   "cell_type": "code",
   "execution_count": 6,
   "metadata": {},
   "outputs": [
    {
     "name": "stdout",
     "output_type": "stream",
     "text": [
      "CLM40r243CMIP6GSWP3 Variable: nbp\n",
      "-------------\n",
      "                unit: kg m-2 s-1\n",
      "          isTemporal: True (1932)\n",
      "           isSpatial: True (192,288)\n",
      "           isLayered: False\n",
      "          nDatasites: N/A\n",
      "           dataShape: (1932, 192, 288)\n",
      "             dataMax: 5.861439e-08\n",
      "             dataMin: -1.318722e-07\n",
      "            dataMean: -5.798144e-11\n",
      "\n",
      "CLM50r267GSWP3 Variable: nbp\n",
      "-------------\n",
      "                unit: kg m-2 s-1\n",
      "          isTemporal: True (1932)\n",
      "           isSpatial: True (192,288)\n",
      "           isLayered: False\n",
      "          nDatasites: N/A\n",
      "           dataShape: (1932, 192, 288)\n",
      "             dataMax: 1.043090e-07\n",
      "             dataMin: -4.399326e-07\n",
      "            dataMean: -1.276678e-11\n",
      "\n",
      "CLM45r270GSWP3 Variable: nbp\n",
      "-------------\n",
      "                unit: kg m-2 s-1\n",
      "          isTemporal: True (1980)\n",
      "           isSpatial: True (192,288)\n",
      "           isLayered: False\n",
      "          nDatasites: N/A\n",
      "           dataShape: (1980, 192, 288)\n",
      "             dataMax: 8.961334e-08\n",
      "             dataMin: -9.543619e-07\n",
      "            dataMean: 5.091431e-11\n",
      "\n"
     ]
    }
   ],
   "source": [
    "nbps = grp.getVariable(\"nbp\")\n",
    "for mname in nbps.keys():\n",
    "    print(mname,nbps[mname])"
   ]
  },
  {
   "cell_type": "markdown",
   "metadata": {},
   "source": [
    "If you add the keyword, `mean=True`, then ILAMB will also give you a mean that has the standard deviation across models encoded as uncertainty."
   ]
  },
  {
   "cell_type": "code",
   "execution_count": 7,
   "metadata": {},
   "outputs": [],
   "source": [
    "nbps,mean = grp.getVariable(\"nbp\",mean=True)"
   ]
  },
  {
   "cell_type": "code",
   "execution_count": 8,
   "metadata": {},
   "outputs": [
    {
     "name": "stdout",
     "output_type": "stream",
     "text": [
      "Variable: nbp\n",
      "-------------\n",
      "                unit: kg m-2 s-1\n",
      "          isTemporal: True (1932)\n",
      "           isSpatial: True (192,288)\n",
      "           isLayered: False\n",
      "          nDatasites: N/A\n",
      "           dataShape: (1932, 192, 288)\n",
      "             dataMax: 5.602857e-08\n",
      "             dataMin: -3.335447e-07\n",
      "            dataMean: -8.624030e-12\n",
      "\n"
     ]
    }
   ],
   "source": [
    "print(mean)"
   ]
  },
  {
   "cell_type": "markdown",
   "metadata": {},
   "source": [
    "So we could use this to operate on output from the LMT:"
   ]
  },
  {
   "cell_type": "code",
   "execution_count": 11,
   "metadata": {},
   "outputs": [
    {
     "name": "stdout",
     "output_type": "stream",
     "text": [
      "ModelResult: LMT\n",
      "----------------\n",
      "  + 0001\n",
      "  + 0002\n",
      "  + 0003\n",
      "  + 0004\n",
      "  + 0005\n",
      "  + 0006\n",
      "  + 0007\n",
      "  + 0008\n",
      "  + 0009\n",
      "  + 0010\n",
      "  + 0015\n",
      "  + 0016\n",
      "  + 0017\n",
      "  + 0018\n",
      "  + 0019\n",
      "  + 0020\n",
      "  + 0021\n",
      "  + 0022\n",
      "  + 0023\n",
      "  + 0024\n",
      "  + 0025\n",
      "  + 0026\n",
      "  + 0027\n",
      "  + 0028\n",
      "  + 0029\n",
      "  + 0030\n",
      "  + 0031\n",
      "  + 0032\n",
      "  + 0033\n",
      "  + 0034\n",
      "  + 0035\n",
      "  + 0037\n",
      "  + 0038\n",
      "  + 0039\n",
      "  + 0040\n",
      "  + 0041\n",
      "  + 0042\n",
      "  + 0043\n",
      "  + 0044\n",
      "  + 0045\n",
      "  + 0046\n",
      "  + 0047\n",
      "  + 0048\n",
      "  + 0049\n",
      "  + 0050\n",
      "  + 0051\n",
      "  + 0052\n",
      "  + 0053\n",
      "  + 0054\n",
      "  + 0055\n",
      "  + 0056\n",
      "  + 0077\n",
      "  + 0078\n",
      "  + 0079\n",
      "  + 0080\n",
      "  + 0081\n",
      "  + 0082\n",
      "  + 0083\n",
      "  + 0084\n",
      "  + 0057\n",
      "  + 0058\n",
      "  + 0059\n",
      "  + 0060\n",
      "  + 0061\n",
      "  + 0062\n",
      "  + 0063\n",
      "  + 0064\n",
      "  + 0065\n",
      "  + 0066\n",
      "  + 0067\n",
      "  + 0068\n",
      "  + 0069\n",
      "  + 0070\n",
      "  + 0071\n",
      "  + 0072\n",
      "  + 0073\n",
      "  + 0074\n",
      "  + 0075\n",
      "  + 0076\n",
      "  + 0011\n",
      "  + 0012\n",
      "  + 0013\n",
      "  + 0014\n",
      "  + 0036\n",
      "\n"
     ]
    }
   ],
   "source": [
    "lmt = ModelResult(\"/lmt/elm_rlts/rawoutput/LMT_MulInst84_US-UMB_I20TRCNPRDCTCBC\",name=\"LMT\")\n",
    "lmt.findFiles(group_regex=\".*clm2_(.*)\\.h0\\..*\")\n",
    "print(lmt)"
   ]
  },
  {
   "cell_type": "code",
   "execution_count": 14,
   "metadata": {},
   "outputs": [],
   "source": [
    "gpps,mean_gpp = lmt.getVariable(\"GPP\",mean=True)"
   ]
  },
  {
   "cell_type": "code",
   "execution_count": 15,
   "metadata": {},
   "outputs": [
    {
     "name": "stdout",
     "output_type": "stream",
     "text": [
      "Variable: GPP\n",
      "-------------\n",
      "                unit: g/m^2/s\n",
      "          isTemporal: True (180)\n",
      "           isSpatial: False\n",
      "           isLayered: False\n",
      "          nDatasites: N/A\n",
      "           dataShape: (180,)\n",
      "             dataMax: 1.082807e-04\n",
      "             dataMin: 0.000000e+00\n",
      "            dataMean: 3.220472e-05\n",
      "\n"
     ]
    }
   ],
   "source": [
    "print(mean_gpp)"
   ]
  },
  {
   "cell_type": "code",
   "execution_count": 26,
   "metadata": {},
   "outputs": [
    {
     "data": {
      "image/png": "[encoded data removed]",
      "text/plain": [
       "<Figure size 1296x216 with 1 Axes>"
      ]
     },
     "metadata": {
      "needs_background": "light"
     },
     "output_type": "display_data"
    }
   ],
   "source": [
    "import matplotlib.pyplot as plt\n",
    "fig,ax = plt.subplots(figsize=(18,3))\n",
    "mean_gpp.convert(\"g m-2 d-1\")\n",
    "mean_gpp.plot(ax)\n",
    "plt.show()"
   ]
  },
  {
   "cell_type": "code",
   "execution_count": null,
   "metadata": {},
   "outputs": [],
   "source": []
  }
 ],
 "metadata": {
  "kernelspec": {
   "display_name": "ncf",
   "language": "python",
   "name": "ilamb"
  },
  "language_info": {
   "codemirror_mode": {
    "name": "ipython",
    "version": 3
   },
   "file_extension": ".py",
   "mimetype": "text/x-python",
   "name": "python",
   "nbconvert_exporter": "python",
   "pygments_lexer": "ipython3",
   "version": "3.8.1"
  }
 },
 "nbformat": 4,
 "nbformat_minor": 4
}

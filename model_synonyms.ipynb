{
 "cells": [
  {
   "cell_type": "markdown",
   "metadata": {},
   "source": [
    "Synonyms in the new ModelResult\n",
    "---\n",
    "\n",
    "This notebook is meant to demo how synonyms should work in the new `ModelResult` prototype. First, we import the prototype functionality and initialize a model which only has `nbp` in the files."
   ]
  },
  {
   "cell_type": "code",
   "execution_count": 1,
   "metadata": {},
   "outputs": [],
   "source": [
    "from ModelResult import ModelResult\n",
    "clm4 = ModelResult(\"/home/nate/data/ILAMB/MODELS/CLM/CLM4.0\",name=\"CLM4\").findFiles()"
   ]
  },
  {
   "cell_type": "markdown",
   "metadata": {},
   "source": [
    "As a reference, now we get `nbp` from the model and print it to see the minimum/maximum/mean values."
   ]
  },
  {
   "cell_type": "code",
   "execution_count": 2,
   "metadata": {},
   "outputs": [
    {
     "name": "stdout",
     "output_type": "stream",
     "text": [
      "Variable: nbp\n",
      "-------------\n",
      "                unit: kg m-2 s-1\n",
      "          isTemporal: True (1932)\n",
      "           isSpatial: True (192,288)\n",
      "           isLayered: False\n",
      "          nDatasites: N/A\n",
      "           dataShape: (1932, 192, 288)\n",
      "             dataMax: 5.861439e-08\n",
      "             dataMin: -1.318722e-07\n",
      "            dataMean: -5.798144e-11\n",
      "\n"
     ]
    }
   ],
   "source": [
    "nbp = clm4.getVariable(\"nbp\")\n",
    "print(nbp)"
   ]
  },
  {
   "cell_type": "markdown",
   "metadata": {},
   "source": [
    "However, variable names in ILAMB are case sensitive. So if we try to get `NBP` this will throw an exception that we catch and report to the user."
   ]
  },
  {
   "cell_type": "code",
   "execution_count": 3,
   "metadata": {},
   "outputs": [
    {
     "name": "stdout",
     "output_type": "stream",
     "text": [
      "Cannot find 'NBP' in 'CLM4'\n"
     ]
    }
   ],
   "source": [
    "try:\n",
    "    nbp = clm4.getVariable(\"NBP\")\n",
    "    print(\"Success\")\n",
    "except Exception as e:\n",
    "    print(e)"
   ]
  },
  {
   "cell_type": "markdown",
   "metadata": {},
   "source": [
    "One way to do this is to give synonyms when asking the model for the variable. This is how ILAMB works now. "
   ]
  },
  {
   "cell_type": "code",
   "execution_count": 4,
   "metadata": {},
   "outputs": [
    {
     "name": "stdout",
     "output_type": "stream",
     "text": [
      "Variable: nbp\n",
      "-------------\n",
      "                unit: kg m-2 s-1\n",
      "          isTemporal: True (1932)\n",
      "           isSpatial: True (192,288)\n",
      "           isLayered: False\n",
      "          nDatasites: N/A\n",
      "           dataShape: (1932, 192, 288)\n",
      "             dataMax: 5.861439e-08\n",
      "             dataMin: -1.318722e-07\n",
      "            dataMean: -5.798144e-11\n",
      "\n"
     ]
    }
   ],
   "source": [
    "nbp = clm4.getVariable(\"NBP\",synonyms=[\"nbp\"])\n",
    "print(nbp)"
   ]
  },
  {
   "cell_type": "markdown",
   "metadata": {},
   "source": [
    "The problem with this method is that these synonyms are not global. So for example, if my model calls downward radiation `fsds`, when I need to get `rsds` I can simply provide the synonym. However, if I go to compute albedo by derived expression `albedo=rsus/rsds`, I cannot specify alternates for each free symbols in the expression. What we need rather is a method to define a global synonym by model. This is now possible by the following:"
   ]
  },
  {
   "cell_type": "code",
   "execution_count": 5,
   "metadata": {},
   "outputs": [
    {
     "name": "stdout",
     "output_type": "stream",
     "text": [
      "Variable: NBP\n",
      "-------------\n",
      "                unit: kg m-2 s-1\n",
      "          isTemporal: True (1932)\n",
      "           isSpatial: True (192,288)\n",
      "           isLayered: False\n",
      "          nDatasites: N/A\n",
      "           dataShape: (1932, 192, 288)\n",
      "             dataMax: 5.861439e-08\n",
      "             dataMin: -1.318722e-07\n",
      "            dataMean: -5.798144e-11\n",
      "\n"
     ]
    }
   ],
   "source": [
    "clm4.addSynonym(\"NBP=nbp\")\n",
    "nbp = clm4.getVariable(\"NBP\")\n",
    "print(nbp)    "
   ]
  },
  {
   "cell_type": "markdown",
   "metadata": {},
   "source": [
    "In the above example, anywhere `NBP` is used with respect to the `clm4` model, the expression will be used instead. This will take care of some issues we have had with ELM. We can simply add a model synonym `nbp=-nee`. Even if `nbp` is a variable, ILAMB will prioritize the model-defined synonyms over the variables in the files.\n",
    "\n",
    "For example, in the code below I am trying to extract `NBP` which is not in the model files. But there is a synonym defined in the `getVariable()` call allowing `nbp` to be used which *is* in the model files. However we have also a model synonym defined. The model synonym will be used as seen by the signs of the minimum/maximum/mean of the variable."
   ]
  },
  {
   "cell_type": "code",
   "execution_count": 6,
   "metadata": {},
   "outputs": [
    {
     "name": "stdout",
     "output_type": "stream",
     "text": [
      "Variable: NBP\n",
      "-------------\n",
      "                unit: (kg m-2 s-1)\n",
      "          isTemporal: True (1932)\n",
      "           isSpatial: True (192,288)\n",
      "           isLayered: False\n",
      "          nDatasites: N/A\n",
      "           dataShape: (1932, 192, 288)\n",
      "             dataMax: 1.318722e-07\n",
      "             dataMin: -5.861439e-08\n",
      "            dataMean: 5.798144e-11\n",
      "\n"
     ]
    }
   ],
   "source": [
    "# re-initialize to clear the synonyms\n",
    "clm4 = ModelResult(\"/home/nate/data/ILAMB/MODELS/CLM/CLM4.0\",name=\"CLM4\").findFiles()\n",
    "\n",
    "# flipping sign just to show which gets used\n",
    "clm4.addSynonym(\"NBP=-nbp\") \n",
    "nbp = clm4.getVariable(\"NBP\",synonyms=[\"nbp\"])\n",
    "\n",
    "# based of the signs of the min/max/mean you can see the model synonym was preferred\n",
    "print(nbp)"
   ]
  }
 ],
 "metadata": {
  "kernelspec": {
   "display_name": "Python 3",
   "language": "python",
   "name": "python3"
  },
  "language_info": {
   "codemirror_mode": {
    "name": "ipython",
    "version": 3
   },
   "file_extension": ".py",
   "mimetype": "text/x-python",
   "name": "python",
   "nbconvert_exporter": "python",
   "pygments_lexer": "ipython3",
   "version": "3.7.3"
  }
 },
 "nbformat": 4,
 "nbformat_minor": 2
}

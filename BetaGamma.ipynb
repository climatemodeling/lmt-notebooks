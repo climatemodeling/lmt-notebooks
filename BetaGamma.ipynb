{
 "cells": [
  {
   "cell_type": "code",
   "execution_count": 1,
   "metadata": {},
   "outputs": [],
   "source": [
    "from ModelResult import ModelResult"
   ]
  },
  {
   "cell_type": "markdown",
   "metadata": {},
   "source": [
    "First, define a few functions which we will use to consistently apply what the changes in carbon and climate will be in computing $\\beta,\\gamma$."
   ]
  },
  {
   "cell_type": "code",
   "execution_count": 2,
   "metadata": {},
   "outputs": [],
   "source": [
    "def CarbonChange(v):\n",
    "    v = v.integrateInSpace()\n",
    "    v = v.accumulateInTime().convert(\"Pg\")\n",
    "    return v.data[-1]-v.data[0]\n",
    "\n",
    "def ClimateChange(v):\n",
    "    v = v.integrateInSpace(mean=True)\n",
    "    return v.data[-1]-v.data[0]"
   ]
  },
  {
   "cell_type": "markdown",
   "metadata": {},
   "source": [
    "Setup a model group for CanESM5 where the groups are based on which `1pctCO2` variant present in the filename."
   ]
  },
  {
   "cell_type": "code",
   "execution_count": 3,
   "metadata": {},
   "outputs": [
    {
     "name": "stdout",
     "output_type": "stream",
     "text": [
      "ModelResult: CanESM5\n",
      "--------------------\n",
      "  + 1pctCO2\n",
      "  + 1pctCO2-bgc\n",
      "  + 1pctCO2-rad\n",
      "\n"
     ]
    }
   ],
   "source": [
    "m = ModelResult(\"/home/nate/data/ILAMB/MODELS/1pctCO2/CanESM5\",name=\"CanESM5\")\n",
    "m.findFiles(group_regex=\".*_(.*)_r1i1p1f1*\")\n",
    "print(m)"
   ]
  },
  {
   "cell_type": "markdown",
   "metadata": {},
   "source": [
    "Extract the variables we will need. In this case we do not need a multimodel mean and so we leave the keyword `mean` to its default `False`."
   ]
  },
  {
   "cell_type": "code",
   "execution_count": 4,
   "metadata": {},
   "outputs": [],
   "source": [
    "nbp   = m.getVariable(  \"nbp\")\n",
    "fgco2 = m.getVariable(\"fgco2\")\n",
    "tas   = m.getVariable(  \"tas\")"
   ]
  },
  {
   "cell_type": "markdown",
   "metadata": {},
   "source": [
    "Now we use our functions to compute the changes in carbon and climate and store these in dictionaries where the keys will be the `1pctCO2` variant which corresponds to the data. `dL` is for the change in carbon over land, `dO` is for the change over ocean, and `dT` is the change in temperature."
   ]
  },
  {
   "cell_type": "code",
   "execution_count": 5,
   "metadata": {},
   "outputs": [],
   "source": [
    "dL = {}; dO = {}; dT = {}\n",
    "for key in   nbp: dL[key] = CarbonChange (  nbp[key])\n",
    "for key in fgco2: dO[key] = CarbonChange (fgco2[key])\n",
    "for key in   tas: dT[key] = ClimateChange(  tas[key])"
   ]
  },
  {
   "cell_type": "markdown",
   "metadata": {},
   "source": [
    "$\\beta$ and $\\gamma$ are defined using equations (2-5) of (Friedlingstein 2006)\n",
    "\n",
    "$$\n",
    "\\begin{align*}\n",
    "\\Delta C_L^c &= \\beta_L \\Delta C_A^c + \\gamma_L \\Delta T^c\\\\\n",
    "\\Delta C_O^c &= \\beta_O \\Delta C_A^c + \\gamma_O \\Delta T^c\\\\\n",
    "\\Delta C_L^u &= \\beta_L \\Delta C_A^u\\\\\n",
    "\\Delta C_O^u &= \\beta_O \\Delta C_A^u\n",
    "\\end{align*}\n",
    "$$\n",
    "\n",
    "where the suberscripts $^{c}$ and $^{u}$ refer to *coupled* and *uncoupled*, subscripts $_A$, $_L$, and $_O$ refer to atmosphere, land, and ocean respectively. Now we just need to relate the model outputs to each variable:\n",
    "\n",
    "* $^c$ - I think refers to the `1pctCO2` output\n",
    "* $^u$ - I am not sure? In what sense should this be uncoupled?\n",
    "* $\\Delta C_L$ - This is the change in accumulative nbp, `dL`\n",
    "* $\\Delta C_O$ - This is the change in accumulative fgco2, `dO`\n",
    "\n",
    "Then there is the question of how the atmopheric change in carbon is computed. If I understand what a 1% run is ($r=0.01$ below), the carbon in year 1 relative to year 0 should be:\n",
    "\n",
    "$$\n",
    "C_1 = C_0 (1+r)\n",
    "$$\n",
    "\n",
    "So the change in carbon after $n$ years is:\n",
    "\n",
    "$$\n",
    "\\Delta C = C_0 ((1+r)^n-1)\n",
    "$$\n",
    "\n",
    "If $C_0=285$ [ppm] and we run from 1850 through 2000, then\n",
    "\n",
    "$$\n",
    "\\Delta C = 285 (1.01^{151}-1) = 995.47\n",
    "$$\n",
    "\n",
    "Does this seem right? Is this the coupled or uncoupled number? What do I do for the other?"
   ]
  },
  {
   "cell_type": "code",
   "execution_count": null,
   "metadata": {},
   "outputs": [],
   "source": []
  }
 ],
 "metadata": {
  "kernelspec": {
   "display_name": "Python 3",
   "language": "python",
   "name": "python3"
  },
  "language_info": {
   "codemirror_mode": {
    "name": "ipython",
    "version": 3
   },
   "file_extension": ".py",
   "mimetype": "text/x-python",
   "name": "python",
   "nbconvert_exporter": "python",
   "pygments_lexer": "ipython3",
   "version": "3.7.3"
  }
 },
 "nbformat": 4,
 "nbformat_minor": 2
}
